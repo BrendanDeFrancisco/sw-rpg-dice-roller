{
 "cells": [
  {
   "cell_type": "code",
   "execution_count": 5,
   "metadata": {
    "collapsed": true
   },
   "outputs": [],
   "source": [
    "import discord\n",
    "from discord.ext.commands import Bot\n",
    "from discord.ext import commands\n",
    "import asyncio\n",
    "import time\n",
    "from numpy.random import randint"
   ]
  },
  {
   "cell_type": "code",
   "execution_count": 6,
   "metadata": {
    "collapsed": true
   },
   "outputs": [],
   "source": [
    "import numpy as np\n",
    "from numpy.random import randint\n",
    "from pprint import pprint\n",
    "\n",
    "b_table = np.array([[0,0,0,0],\n",
    "                    [0,0,0,0],\n",
    "                    [0,2,0,0],\n",
    "                    [0,1,0,0],\n",
    "                    [1,1,0,0],\n",
    "                    [1,0,0,0]])\n",
    "\n",
    "a_table = np.array([[0,0,0,0],\n",
    "                    [1,0,0,0],\n",
    "                    [1,0,0,0],\n",
    "                    [2,0,0,0],\n",
    "                    [0,1,0,0],\n",
    "                    [0,1,0,0],\n",
    "                    [1,1,0,0],\n",
    "                    [0,2,0,0]])\n",
    "\n",
    "p_table = np.array([[0,0,0,0],\n",
    "                    [1,0,0,0],\n",
    "                    [1,0,0,0],\n",
    "                    [2,0,0,0],\n",
    "                    [2,0,0,0],\n",
    "                    [0,1,0,0],\n",
    "                    [1,1,0,0],\n",
    "                    [1,1,0,0],\n",
    "                    [1,1,0,0],\n",
    "                    [0,2,0,0],\n",
    "                    [0,2,0,0],\n",
    "                    [0,0,1,0]])\n",
    "\n",
    "s_table = np.array([[0,0,0,0],\n",
    "                    [0,0,0,0],\n",
    "                    [0,-1,0,0],\n",
    "                    [0,-1,0,0],\n",
    "                    [-1,0,0,0],\n",
    "                    [-1,0,0,0]])\n",
    "\n",
    "d_table = np.array([[0,0,0,0],\n",
    "                    [-1,0,0,0],\n",
    "                    [-2,0,0,0],\n",
    "                    [0,-1,0,0],\n",
    "                    [0,-1,0,0],\n",
    "                    [0,-1,0,0],\n",
    "                    [0,-2,0,0],\n",
    "                    [-1,-1,0,0]])\n",
    "\n",
    "c_table = np.array([[0,0,0,0],\n",
    "                    [-1,0,0,0],\n",
    "                    [-1,0,0,0],\n",
    "                    [-2,0,0,0],\n",
    "                    [-2,0,0,0],\n",
    "                    [0,-1,0,0],\n",
    "                    [0,-1,0,0],\n",
    "                    [-1,-1,0,0],\n",
    "                    [-1,-1,0,0],\n",
    "                    [0,-2,0,0],\n",
    "                    [0,-2,0,0],\n",
    "                    [0,0,0,1]])\n",
    "\n",
    "\n",
    "dice_tables = {'B' : b_table, 'A' : a_table, 'P' : p_table, 'S' : s_table, 'D' : d_table, 'C' : c_table}\n",
    "dice_shapes = {'B' : \"**[ ]**\", 'A' : \"**< >**\", 'P' : \"**{ }**\", 'S' : \"[ ]\", 'D' : \"< >\", 'C' : \"{ }\"}"
   ]
  },
  {
   "cell_type": "code",
   "execution_count": 7,
   "metadata": {
    "collapsed": true
   },
   "outputs": [],
   "source": [
    "def get_die_text(result):\n",
    "    text_list = [\":boom:\",\":trident:\",\"<:yeah:444299806232412170>\",\"<:jack:415291368441774080>\"]\n",
    "    die_face = []\n",
    "    for i in range(0,4):\n",
    "        if result[i] != 0:\n",
    "            die_face.append(str(result[i])+text_list[i])\n",
    "    return ' '.join(die_face)\n",
    "\n",
    "def get_net_results(result_list):\n",
    "    net_results = np.sum(result_list, axis=0)\n",
    "    return \"Success: \"+str(net_results[0])+\"  Advantage: \"+str(net_results[1])+\"  Triumph: \"+str(net_results[2])+\"  Despair: \"+str(net_results[3])\n",
    "\n",
    "def dice_reader(string):\n",
    "    str_list = []\n",
    "    result_list = []\n",
    "    for s in string:\n",
    "        s_table = dice_tables[s] #gets relevant table from dict\n",
    "        result = s_table[randint(0, high=len(s_table))]\n",
    "        result_list.append(result) #use these to find net result\n",
    "        str_beg, str_end = dice_shapes[s].split(\" \")\n",
    "        str_list.append(str_beg+get_die_text(result)+str_end)\n",
    "    return '    '.join(str_list), get_net_results(result_list)\n"
   ]
  },
  {
   "cell_type": "code",
   "execution_count": 8,
   "metadata": {
    "scrolled": true
   },
   "outputs": [
    {
     "ename": "RuntimeError",
     "evalue": "Cannot close a running event loop",
     "output_type": "error",
     "traceback": [
      "\u001b[0;31m---------------------------------------------------------------------------\u001b[0m",
      "\u001b[0;31mRuntimeError\u001b[0m                              Traceback (most recent call last)",
      "\u001b[0;32m~/anaconda2/envs/threethon/lib/python3.6/site-packages/discord/client.py\u001b[0m in \u001b[0;36mrun\u001b[0;34m(self, *args, **kwargs)\u001b[0m\n\u001b[1;32m    518\u001b[0m         \u001b[0;32mtry\u001b[0m\u001b[0;34m:\u001b[0m\u001b[0;34m\u001b[0m\u001b[0m\n\u001b[0;32m--> 519\u001b[0;31m             \u001b[0mself\u001b[0m\u001b[0;34m.\u001b[0m\u001b[0mloop\u001b[0m\u001b[0;34m.\u001b[0m\u001b[0mrun_until_complete\u001b[0m\u001b[0;34m(\u001b[0m\u001b[0mself\u001b[0m\u001b[0;34m.\u001b[0m\u001b[0mstart\u001b[0m\u001b[0;34m(\u001b[0m\u001b[0;34m*\u001b[0m\u001b[0margs\u001b[0m\u001b[0;34m,\u001b[0m \u001b[0;34m**\u001b[0m\u001b[0mkwargs\u001b[0m\u001b[0;34m)\u001b[0m\u001b[0;34m)\u001b[0m\u001b[0;34m\u001b[0m\u001b[0m\n\u001b[0m\u001b[1;32m    520\u001b[0m         \u001b[0;32mexcept\u001b[0m \u001b[0mKeyboardInterrupt\u001b[0m\u001b[0;34m:\u001b[0m\u001b[0;34m\u001b[0m\u001b[0m\n",
      "\u001b[0;32m~/anaconda2/envs/threethon/lib/python3.6/asyncio/base_events.py\u001b[0m in \u001b[0;36mrun_until_complete\u001b[0;34m(self, future)\u001b[0m\n\u001b[1;32m    453\u001b[0m         \u001b[0;32mtry\u001b[0m\u001b[0;34m:\u001b[0m\u001b[0;34m\u001b[0m\u001b[0m\n\u001b[0;32m--> 454\u001b[0;31m             \u001b[0mself\u001b[0m\u001b[0;34m.\u001b[0m\u001b[0mrun_forever\u001b[0m\u001b[0;34m(\u001b[0m\u001b[0;34m)\u001b[0m\u001b[0;34m\u001b[0m\u001b[0m\n\u001b[0m\u001b[1;32m    455\u001b[0m         \u001b[0;32mexcept\u001b[0m\u001b[0;34m:\u001b[0m\u001b[0;34m\u001b[0m\u001b[0m\n",
      "\u001b[0;32m~/anaconda2/envs/threethon/lib/python3.6/asyncio/base_events.py\u001b[0m in \u001b[0;36mrun_forever\u001b[0;34m(self)\u001b[0m\n\u001b[1;32m    407\u001b[0m         \u001b[0;32mif\u001b[0m \u001b[0mself\u001b[0m\u001b[0;34m.\u001b[0m\u001b[0mis_running\u001b[0m\u001b[0;34m(\u001b[0m\u001b[0;34m)\u001b[0m\u001b[0;34m:\u001b[0m\u001b[0;34m\u001b[0m\u001b[0m\n\u001b[0;32m--> 408\u001b[0;31m             \u001b[0;32mraise\u001b[0m \u001b[0mRuntimeError\u001b[0m\u001b[0;34m(\u001b[0m\u001b[0;34m'This event loop is already running'\u001b[0m\u001b[0;34m)\u001b[0m\u001b[0;34m\u001b[0m\u001b[0m\n\u001b[0m\u001b[1;32m    409\u001b[0m         \u001b[0;32mif\u001b[0m \u001b[0mevents\u001b[0m\u001b[0;34m.\u001b[0m\u001b[0m_get_running_loop\u001b[0m\u001b[0;34m(\u001b[0m\u001b[0;34m)\u001b[0m \u001b[0;32mis\u001b[0m \u001b[0;32mnot\u001b[0m \u001b[0;32mNone\u001b[0m\u001b[0;34m:\u001b[0m\u001b[0;34m\u001b[0m\u001b[0m\n",
      "\u001b[0;31mRuntimeError\u001b[0m: This event loop is already running",
      "\nDuring handling of the above exception, another exception occurred:\n",
      "\u001b[0;31mRuntimeError\u001b[0m                              Traceback (most recent call last)",
      "\u001b[0;32m<ipython-input-8-4f6742f92e30>\u001b[0m in \u001b[0;36m<module>\u001b[0;34m()\u001b[0m\n\u001b[1;32m     15\u001b[0m \u001b[0;34m\u001b[0m\u001b[0m\n\u001b[1;32m     16\u001b[0m \u001b[0;34m\u001b[0m\u001b[0m\n\u001b[0;32m---> 17\u001b[0;31m \u001b[0mclient\u001b[0m\u001b[0;34m.\u001b[0m\u001b[0mrun\u001b[0m\u001b[0;34m(\u001b[0m\u001b[0;34m\"NDg1ODI4OTYwMzY2NzU1ODYw.Doyfpg.gFjZbyJXZ_epg8NvWaUFvwY2KLg\"\u001b[0m\u001b[0;34m)\u001b[0m \u001b[0;31m#Replace token with your bots token\u001b[0m\u001b[0;34m\u001b[0m\u001b[0m\n\u001b[0m",
      "\u001b[0;32m~/anaconda2/envs/threethon/lib/python3.6/site-packages/discord/client.py\u001b[0m in \u001b[0;36mrun\u001b[0;34m(self, *args, **kwargs)\u001b[0m\n\u001b[1;32m    532\u001b[0m                 \u001b[0;32mpass\u001b[0m\u001b[0;34m\u001b[0m\u001b[0m\n\u001b[1;32m    533\u001b[0m         \u001b[0;32mfinally\u001b[0m\u001b[0;34m:\u001b[0m\u001b[0;34m\u001b[0m\u001b[0m\n\u001b[0;32m--> 534\u001b[0;31m             \u001b[0mself\u001b[0m\u001b[0;34m.\u001b[0m\u001b[0mloop\u001b[0m\u001b[0;34m.\u001b[0m\u001b[0mclose\u001b[0m\u001b[0;34m(\u001b[0m\u001b[0;34m)\u001b[0m\u001b[0;34m\u001b[0m\u001b[0m\n\u001b[0m\u001b[1;32m    535\u001b[0m \u001b[0;34m\u001b[0m\u001b[0m\n\u001b[1;32m    536\u001b[0m         \u001b[0;31m# properties\u001b[0m\u001b[0;34m\u001b[0m\u001b[0;34m\u001b[0m\u001b[0m\n",
      "\u001b[0;32m~/anaconda2/envs/threethon/lib/python3.6/asyncio/unix_events.py\u001b[0m in \u001b[0;36mclose\u001b[0;34m(self)\u001b[0m\n\u001b[1;32m     61\u001b[0m \u001b[0;34m\u001b[0m\u001b[0m\n\u001b[1;32m     62\u001b[0m     \u001b[0;32mdef\u001b[0m \u001b[0mclose\u001b[0m\u001b[0;34m(\u001b[0m\u001b[0mself\u001b[0m\u001b[0;34m)\u001b[0m\u001b[0;34m:\u001b[0m\u001b[0;34m\u001b[0m\u001b[0m\n\u001b[0;32m---> 63\u001b[0;31m         \u001b[0msuper\u001b[0m\u001b[0;34m(\u001b[0m\u001b[0;34m)\u001b[0m\u001b[0;34m.\u001b[0m\u001b[0mclose\u001b[0m\u001b[0;34m(\u001b[0m\u001b[0;34m)\u001b[0m\u001b[0;34m\u001b[0m\u001b[0m\n\u001b[0m\u001b[1;32m     64\u001b[0m         \u001b[0;32mfor\u001b[0m \u001b[0msig\u001b[0m \u001b[0;32min\u001b[0m \u001b[0mlist\u001b[0m\u001b[0;34m(\u001b[0m\u001b[0mself\u001b[0m\u001b[0;34m.\u001b[0m\u001b[0m_signal_handlers\u001b[0m\u001b[0;34m)\u001b[0m\u001b[0;34m:\u001b[0m\u001b[0;34m\u001b[0m\u001b[0m\n\u001b[1;32m     65\u001b[0m             \u001b[0mself\u001b[0m\u001b[0;34m.\u001b[0m\u001b[0mremove_signal_handler\u001b[0m\u001b[0;34m(\u001b[0m\u001b[0msig\u001b[0m\u001b[0;34m)\u001b[0m\u001b[0;34m\u001b[0m\u001b[0m\n",
      "\u001b[0;32m~/anaconda2/envs/threethon/lib/python3.6/asyncio/selector_events.py\u001b[0m in \u001b[0;36mclose\u001b[0;34m(self)\u001b[0m\n\u001b[1;32m    105\u001b[0m     \u001b[0;32mdef\u001b[0m \u001b[0mclose\u001b[0m\u001b[0;34m(\u001b[0m\u001b[0mself\u001b[0m\u001b[0;34m)\u001b[0m\u001b[0;34m:\u001b[0m\u001b[0;34m\u001b[0m\u001b[0m\n\u001b[1;32m    106\u001b[0m         \u001b[0;32mif\u001b[0m \u001b[0mself\u001b[0m\u001b[0;34m.\u001b[0m\u001b[0mis_running\u001b[0m\u001b[0;34m(\u001b[0m\u001b[0;34m)\u001b[0m\u001b[0;34m:\u001b[0m\u001b[0;34m\u001b[0m\u001b[0m\n\u001b[0;32m--> 107\u001b[0;31m             \u001b[0;32mraise\u001b[0m \u001b[0mRuntimeError\u001b[0m\u001b[0;34m(\u001b[0m\u001b[0;34m\"Cannot close a running event loop\"\u001b[0m\u001b[0;34m)\u001b[0m\u001b[0;34m\u001b[0m\u001b[0m\n\u001b[0m\u001b[1;32m    108\u001b[0m         \u001b[0;32mif\u001b[0m \u001b[0mself\u001b[0m\u001b[0;34m.\u001b[0m\u001b[0mis_closed\u001b[0m\u001b[0;34m(\u001b[0m\u001b[0;34m)\u001b[0m\u001b[0;34m:\u001b[0m\u001b[0;34m\u001b[0m\u001b[0m\n\u001b[1;32m    109\u001b[0m             \u001b[0;32mreturn\u001b[0m\u001b[0;34m\u001b[0m\u001b[0m\n",
      "\u001b[0;31mRuntimeError\u001b[0m: Cannot close a running event loop"
     ]
    },
    {
     "name": "stdout",
     "output_type": "stream",
     "text": [
      "Bot is online and connected to Discord\n"
     ]
    }
   ],
   "source": [
    "Client = discord.Client() #Initialise Client \n",
    "client = commands.Bot(command_prefix = \".\") #Initialise client bot\n",
    "\n",
    "\n",
    "@client.event \n",
    "async def on_ready():\n",
    "    print(\"Bot is online and connected to Discord\") #This will be called when the bot connects to the server\n",
    "\n",
    "@client.event\n",
    "async def on_message(message):             \n",
    "    if message.content.upper().startswith('!ROLL'):\n",
    "        _,dice = message.content.split(\" \")\n",
    "        str_list, net_results = dice_reader(dice.upper())\n",
    "        await client.send_message(message.channel, str(str_list)+\"\\n\"+str(net_results))\n",
    "\n",
    "\n",
    "client.run(\"BOTTOKEN\") #Replace BOTTOKEN with your bot's token"
   ]
  }
 ],
 "metadata": {
  "kernelspec": {
   "display_name": "Python Threethon",
   "language": "python",
   "name": "threethon"
  },
  "language_info": {
   "codemirror_mode": {
    "name": "ipython",
    "version": 3
   },
   "file_extension": ".py",
   "mimetype": "text/x-python",
   "name": "python",
   "nbconvert_exporter": "python",
   "pygments_lexer": "ipython3",
   "version": "3.6.0"
  }
 },
 "nbformat": 4,
 "nbformat_minor": 2
}
